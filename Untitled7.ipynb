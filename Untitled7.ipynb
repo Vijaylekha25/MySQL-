{
 "cells": [
  {
   "cell_type": "markdown",
   "id": "6c03d8fa-56a0-44d1-8e18-26e2c2ced73f",
   "metadata": {},
   "source": [
    "Q1. What is a database? Differentiate between SQL and NoSQL databases."
   ]
  },
  {
   "cell_type": "markdown",
   "id": "23bf536c-c7f1-46c3-b663-7bdc60f6e116",
   "metadata": {},
   "source": [
    "A database is a structured collection of data that is organized in such a way that it can be easily accessed, managed, and updated. SQL (Structured Query Language) and NoSQL are two different types of database management systems.\n",
    "\n",
    "SQL databases are relational databases, meaning they store data in tables and use structured query language (SQL) for defining and manipulating the data. Examples of SQL databases include MySQL, PostgreSQL, Oracle, and SQL Server.\n",
    "\n",
    "NoSQL databases, on the other hand, are non-relational databases that store data in a variety of formats, such as key-value pairs, document-based, column-based, or graph-based. NoSQL databases are designed to handle large volumes of unstructured data and provide flexible schema design. Examples of NoSQL databases include MongoDB, Cassandra, Couchbase, and Redis."
   ]
  },
  {
   "cell_type": "markdown",
   "id": "8fb56114-85fc-41ae-b6fd-55e30ea93118",
   "metadata": {},
   "source": [
    "Q2. What is DDL? Explain why CREATE, DROP, ALTER, and TRUNCATE are used with an example."
   ]
  },
  {
   "cell_type": "markdown",
   "id": "d778dcdf-c5d4-4508-b3d0-dfa2c59cb2a8",
   "metadata": {},
   "source": [
    "DDL (Data Definition Language) is a subset of SQL used to define the structure of a database. It includes commands such as CREATE, DROP, ALTER, and TRUNCATE.\n",
    "\n",
    "CREATE: Used to create new database objects such as tables, views, indexes, etc. For example, CREATE TABLE Students (id INT, name VARCHAR(50)); creates a new table named Students with columns id and name.\n",
    "\n",
    "DROP: Used to delete existing database objects. For example, DROP TABLE Students; deletes the Students table from the database.\n",
    "\n",
    "ALTER: Used to modify the structure of existing database objects. For example, ALTER TABLE Students ADD COLUMN age INT; adds a new column named age to the Students table.\n",
    "\n",
    "TRUNCATE: Used to delete all rows from a table, but the table structure remains intact. For example, TRUNCATE TABLE Students; removes all records from the Students table."
   ]
  },
  {
   "cell_type": "markdown",
   "id": "4d1468ce-43a3-4365-af31-53fc88c1b584",
   "metadata": {},
   "source": [
    "Q3. What is DML? Explain INSERT, UPDATE, and DELETE with an example."
   ]
  },
  {
   "cell_type": "markdown",
   "id": "f42d1628-5766-4e84-9033-097b63b63749",
   "metadata": {},
   "source": [
    "DML (Data Manipulation Language) is used to manipulate data within database objects like tables. It includes commands such as INSERT, UPDATE, and DELETE.\n",
    "\n",
    "INSERT: Used to add new rows of data into a table. For example, INSERT INTO Students (id, name, age) VALUES (1, 'John', 25); inserts a new record into the Students table with id 1, name John, and age 25.\n",
    "\n",
    "UPDATE: Used to modify existing data in a table. For example, UPDATE Students SET age = 26 WHERE id = 1; updates the age of the student with id 1 to 26.\n",
    "\n",
    "DELETE: Used to remove rows from a table. For example, DELETE FROM Students WHERE id = 1; deletes the record of the student with id 1 from the Students table."
   ]
  },
  {
   "cell_type": "markdown",
   "id": "6e728ba6-a586-4bad-8e15-c01a78e01b21",
   "metadata": {},
   "source": [
    "Q4. What is DQL? Explain SELECT with an example."
   ]
  },
  {
   "cell_type": "markdown",
   "id": "765eaae7-522d-45f3-9181-19bc52f839de",
   "metadata": {},
   "source": [
    "DQL (Data Query Language) is used to retrieve data from a database. The most common DQL command is SELECT.\n",
    "\n",
    "SELECT: Used to retrieve data from one or more tables. For example, SELECT * FROM Students; retrieves all columns and records from the Students table."
   ]
  },
  {
   "cell_type": "markdown",
   "id": "89f73343-1e60-44bc-bc79-e07f86afec19",
   "metadata": {},
   "source": [
    "Q5. Explain Primary Key and Foreign Key."
   ]
  },
  {
   "cell_type": "markdown",
   "id": "90486f17-371e-4f9b-b495-387922ad78f0",
   "metadata": {},
   "source": [
    "Primary Key: A primary key is a column or a set of columns that uniquely identifies each row in a table. It ensures that each row in a table is unique and serves as a reference point for establishing relationships with other tables. Primary keys are typically used to enforce entity integrity in a database. For example, in a Students table, the student_id column could be designated as the primary key.\n",
    "\n",
    "Foreign Key: A foreign key is a column or a set of columns in a table that establishes a link between data in two tables. It ensures referential integrity by enforcing a relationship between the data in the referencing table and the referenced table. Foreign keys typically match the primary key column(s) in another table. For example, in a Grades table, the student_id column could be a foreign key that references the primary key column in the Students table."
   ]
  },
  {
   "cell_type": "markdown",
   "id": "c6962331-2123-4aa9-aacd-106ac81a1506",
   "metadata": {},
   "source": [
    "Q6. Write a python code to connect MySQL to python. Explain the cursor() and execute() method."
   ]
  },
  {
   "cell_type": "code",
   "execution_count": 2,
   "id": "9c7b2a4e-93b4-44b5-9b64-6a9107b214c2",
   "metadata": {},
   "outputs": [
    {
     "ename": "ModuleNotFoundError",
     "evalue": "No module named 'mysql'",
     "output_type": "error",
     "traceback": [
      "\u001b[1;31m---------------------------------------------------------------------------\u001b[0m",
      "\u001b[1;31mModuleNotFoundError\u001b[0m                       Traceback (most recent call last)",
      "Cell \u001b[1;32mIn[2], line 1\u001b[0m\n\u001b[1;32m----> 1\u001b[0m \u001b[38;5;28;01mimport\u001b[39;00m \u001b[38;5;21;01mmysql\u001b[39;00m\u001b[38;5;21;01m.\u001b[39;00m\u001b[38;5;21;01mconnector\u001b[39;00m\n\u001b[0;32m      3\u001b[0m \u001b[38;5;66;03m# Connect to MySQL\u001b[39;00m\n\u001b[0;32m      4\u001b[0m mydb \u001b[38;5;241m=\u001b[39m mysql\u001b[38;5;241m.\u001b[39mconnector\u001b[38;5;241m.\u001b[39mconnect(\n\u001b[0;32m      5\u001b[0m   host\u001b[38;5;241m=\u001b[39m\u001b[38;5;124m\"\u001b[39m\u001b[38;5;124mlocalhost\u001b[39m\u001b[38;5;124m\"\u001b[39m,\n\u001b[0;32m      6\u001b[0m   user\u001b[38;5;241m=\u001b[39m\u001b[38;5;124m\"\u001b[39m\u001b[38;5;124musername\u001b[39m\u001b[38;5;124m\"\u001b[39m,\n\u001b[0;32m      7\u001b[0m   password\u001b[38;5;241m=\u001b[39m\u001b[38;5;124m\"\u001b[39m\u001b[38;5;124mpassword\u001b[39m\u001b[38;5;124m\"\u001b[39m,\n\u001b[0;32m      8\u001b[0m   database\u001b[38;5;241m=\u001b[39m\u001b[38;5;124m\"\u001b[39m\u001b[38;5;124mmydatabase\u001b[39m\u001b[38;5;124m\"\u001b[39m\n\u001b[0;32m      9\u001b[0m )\n",
      "\u001b[1;31mModuleNotFoundError\u001b[0m: No module named 'mysql'"
     ]
    }
   ],
   "source": [
    "import mysql.connector\n",
    "\n",
    "# Connect to MySQL\n",
    "mydb = mysql.connector.connect(\n",
    "  host=\"localhost\",\n",
    "  user=\"username\",\n",
    "  password=\"password\",\n",
    "  database=\"mydatabase\"\n",
    ")\n",
    "\n",
    "# Create cursor object\n",
    "mycursor = mydb.cursor()\n",
    "\n",
    "# Execute SQL query\n",
    "mycursor.execute(\"SELECT * FROM Students\")\n",
    "\n",
    "# Fetch result\n",
    "result = mycursor.fetchall()\n",
    "\n",
    "# Print result\n",
    "for row in result:\n",
    "  print(row)"
   ]
  },
  {
   "cell_type": "markdown",
   "id": "ec55c265-66b9-46e7-beff-2953ecccddec",
   "metadata": {},
   "source": [
    "cursor(): The cursor() method creates a cursor object, which is used to execute SQL queries and fetch results from the database.\n",
    "\n",
    "execute(): The execute() method is used to execute SQL queries. You pass the SQL query as a parameter to this method. After executing the query, you can fetch the result using methods like fetchall(), fetchone(), etc."
   ]
  },
  {
   "cell_type": "markdown",
   "id": "8f48f20b-4ce1-47b1-afae-e1bf8af24d79",
   "metadata": {},
   "source": [
    "Q7. Give the order of execution of SQL clauses in an SQL query."
   ]
  },
  {
   "cell_type": "code",
   "execution_count": null,
   "id": "264bbcb7-ee42-4f55-b345-c178f8efa948",
   "metadata": {},
   "outputs": [],
   "source": []
  },
  {
   "cell_type": "code",
   "execution_count": null,
   "id": "f87908a6-bd10-495c-ba66-26f9eb84cc17",
   "metadata": {},
   "outputs": [],
   "source": []
  }
 ],
 "metadata": {
  "kernelspec": {
   "display_name": "Python 3 (ipykernel)",
   "language": "python",
   "name": "python3"
  },
  "language_info": {
   "codemirror_mode": {
    "name": "ipython",
    "version": 3
   },
   "file_extension": ".py",
   "mimetype": "text/x-python",
   "name": "python",
   "nbconvert_exporter": "python",
   "pygments_lexer": "ipython3",
   "version": "3.12.2"
  }
 },
 "nbformat": 4,
 "nbformat_minor": 5
}
